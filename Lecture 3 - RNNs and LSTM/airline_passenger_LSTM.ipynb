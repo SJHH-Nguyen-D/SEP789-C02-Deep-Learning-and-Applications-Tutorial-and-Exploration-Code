{
  "nbformat": 4,
  "nbformat_minor": 0,
  "metadata": {
    "colab": {
      "name": "Air_Line_passenger(LSTM).ipynb",
      "version": "0.3.2",
      "provenance": [],
      "collapsed_sections": []
    },
    "kernelspec": {
      "display_name": "Python 3",
      "language": "python",
      "name": "python3"
    }
  },
  "cells": [
    {
      "metadata": {
        "id": "TCYWdzDbjbrH",
        "colab_type": "code",
        "colab": {}
      },
      "cell_type": "code",
      "source": [
        "import numpy as np\n",
        "import matplotlib.pyplot as plt\n",
        "import pandas as pd\n",
        "import math\n",
        "from keras.models import Sequential\n",
        "from keras.layers import Dense, LSTM\n",
        "from sklearn.preprocessing import MinMaxScaler\n",
        "from sklearn.metrics import mean_squared_error"
      ],
      "execution_count": 0,
      "outputs": []
    },
    {
      "metadata": {
        "id": "bYv2svqJ6X9J",
        "colab_type": "code",
        "colab": {}
      },
      "cell_type": "code",
      "source": [
        "#from google.colab import files\n",
        "#uploaded = files.upload()"
      ],
      "execution_count": 0,
      "outputs": []
    },
    {
      "metadata": {
        "id": "FOOHM8zsjbrM",
        "colab_type": "code",
        "colab": {}
      },
      "cell_type": "code",
      "source": [
        "dataset = pd.read_csv('international-airline-passengers.csv', usecols=[1], engine='python', skipfooter=3)"
      ],
      "execution_count": 0,
      "outputs": []
    },
    {
      "metadata": {
        "id": "nrhN_B7JjbrR",
        "colab_type": "code",
        "colab": {
          "base_uri": "https://localhost:8080/",
          "height": 204
        },
        "outputId": "a753ec34-da2a-439d-cb35-ba05c295142e"
      },
      "cell_type": "code",
      "source": [
        "dataset.head()"
      ],
      "execution_count": 34,
      "outputs": [
        {
          "output_type": "execute_result",
          "data": {
            "text/html": [
              "<div>\n",
              "<style scoped>\n",
              "    .dataframe tbody tr th:only-of-type {\n",
              "        vertical-align: middle;\n",
              "    }\n",
              "\n",
              "    .dataframe tbody tr th {\n",
              "        vertical-align: top;\n",
              "    }\n",
              "\n",
              "    .dataframe thead th {\n",
              "        text-align: right;\n",
              "    }\n",
              "</style>\n",
              "<table border=\"1\" class=\"dataframe\">\n",
              "  <thead>\n",
              "    <tr style=\"text-align: right;\">\n",
              "      <th></th>\n",
              "      <th>totals_monthly</th>\n",
              "    </tr>\n",
              "  </thead>\n",
              "  <tbody>\n",
              "    <tr>\n",
              "      <th>0</th>\n",
              "      <td>112</td>\n",
              "    </tr>\n",
              "    <tr>\n",
              "      <th>1</th>\n",
              "      <td>118</td>\n",
              "    </tr>\n",
              "    <tr>\n",
              "      <th>2</th>\n",
              "      <td>132</td>\n",
              "    </tr>\n",
              "    <tr>\n",
              "      <th>3</th>\n",
              "      <td>129</td>\n",
              "    </tr>\n",
              "    <tr>\n",
              "      <th>4</th>\n",
              "      <td>121</td>\n",
              "    </tr>\n",
              "  </tbody>\n",
              "</table>\n",
              "</div>"
            ],
            "text/plain": [
              "   totals_monthly\n",
              "0             112\n",
              "1             118\n",
              "2             132\n",
              "3             129\n",
              "4             121"
            ]
          },
          "metadata": {
            "tags": []
          },
          "execution_count": 34
        }
      ]
    },
    {
      "metadata": {
        "scrolled": true,
        "id": "9pajWdTAjbrY",
        "colab_type": "code",
        "outputId": "d5b80d02-5f68-4aa3-dc4d-dbb9826f6876",
        "colab": {
          "base_uri": "https://localhost:8080/",
          "height": 347
        }
      },
      "cell_type": "code",
      "source": [
        "plt.plot(dataset)\n",
        "plt.show()"
      ],
      "execution_count": 35,
      "outputs": [
        {
          "output_type": "display_data",
          "data": {
            "image/png": "[encoded data removed]",
            "text/plain": [
              "<Figure size 576x396 with 1 Axes>"
            ]
          },
          "metadata": {
            "tags": []
          }
        }
      ]
    },
    {
      "metadata": {
        "id": "xfNYpTnsjbrd",
        "colab_type": "code",
        "outputId": "87d329c5-5fc0-420d-b0b6-2b0826b604eb",
        "colab": {
          "base_uri": "https://localhost:8080/",
          "height": 51
        }
      },
      "cell_type": "code",
      "source": [
        "scaler = MinMaxScaler(feature_range=(0, 1))\n",
        "dataset = scaler.fit_transform(dataset)"
      ],
      "execution_count": 36,
      "outputs": [
        {
          "output_type": "stream",
          "text": [
            "/usr/local/lib/python3.6/dist-packages/sklearn/preprocessing/data.py:334: DataConversionWarning: Data with input dtype int64 were all converted to float64 by MinMaxScaler.\n",
            "  return self.partial_fit(X, y)\n"
          ],
          "name": "stderr"
        }
      ]
    },
    {
      "metadata": {
        "id": "9-t6LhU3jbri",
        "colab_type": "code",
        "outputId": "cc82263e-a1c8-44bd-d16f-4d63c179d5bc",
        "colab": {
          "base_uri": "https://localhost:8080/",
          "height": 187
        }
      },
      "cell_type": "code",
      "source": [
        "dataset[:10,:]"
      ],
      "execution_count": 37,
      "outputs": [
        {
          "output_type": "execute_result",
          "data": {
            "text/plain": [
              "array([[0.01544402],\n",
              "       [0.02702703],\n",
              "       [0.05405405],\n",
              "       [0.04826255],\n",
              "       [0.03281853],\n",
              "       [0.05984556],\n",
              "       [0.08494208],\n",
              "       [0.08494208],\n",
              "       [0.06177606],\n",
              "       [0.02895753]])"
            ]
          },
          "metadata": {
            "tags": []
          },
          "execution_count": 37
        }
      ]
    },
    {
      "metadata": {
        "id": "doMRHJkrjbro",
        "colab_type": "code",
        "outputId": "f7dbd59a-7946-4c9f-991f-ab3b38e3a97d",
        "colab": {
          "base_uri": "https://localhost:8080/",
          "height": 34
        }
      },
      "cell_type": "code",
      "source": [
        "train_size = int(len(dataset) * 0.7)\n",
        "test_size = len(dataset) - train_size\n",
        "train, test = dataset[0:train_size,:], dataset[train_size:len(dataset),:]\n",
        "print(len(train), len(test))"
      ],
      "execution_count": 38,
      "outputs": [
        {
          "output_type": "stream",
          "text": [
            "98 43\n"
          ],
          "name": "stdout"
        }
      ]
    },
    {
      "metadata": {
        "id": "9hVB241Njbrt",
        "colab_type": "text"
      },
      "cell_type": "markdown",
      "source": [
        "This default will create a dataset where X is the number of passengers at a given time (t) and Y is the number of passengers at the next time (t + 1).\n"
      ]
    },
    {
      "metadata": {
        "id": "oh_oyHhnjbru",
        "colab_type": "code",
        "colab": {}
      },
      "cell_type": "code",
      "source": [
        "trainX=train[:-1]\n",
        "trainY=train[1:]\n",
        "\n",
        "testX=test[:-1]\n",
        "testY=test[1:]"
      ],
      "execution_count": 0,
      "outputs": []
    },
    {
      "metadata": {
        "id": "ZWzZxYDnjbrx",
        "colab_type": "code",
        "outputId": "6c300326-a7a8-4db6-f3c1-1e5a997eb86a",
        "colab": {
          "base_uri": "https://localhost:8080/",
          "height": 34
        }
      },
      "cell_type": "code",
      "source": [
        "np.shape(trainX)"
      ],
      "execution_count": 40,
      "outputs": [
        {
          "output_type": "execute_result",
          "data": {
            "text/plain": [
              "(97, 1)"
            ]
          },
          "metadata": {
            "tags": []
          },
          "execution_count": 40
        }
      ]
    },
    {
      "metadata": {
        "id": "JO3Uvfa1jbr2",
        "colab_type": "code",
        "outputId": "425b8e08-c67e-4a0c-a6c2-b2361659270d",
        "colab": {
          "base_uri": "https://localhost:8080/",
          "height": 34
        }
      },
      "cell_type": "code",
      "source": [
        "np.shape(trainY)"
      ],
      "execution_count": 41,
      "outputs": [
        {
          "output_type": "execute_result",
          "data": {
            "text/plain": [
              "(97, 1)"
            ]
          },
          "metadata": {
            "tags": []
          },
          "execution_count": 41
        }
      ]
    },
    {
      "metadata": {
        "id": "JdIS1NTQjbr6",
        "colab_type": "code",
        "outputId": "be1650a6-b506-4f09-d3f6-67ffe894c8a9",
        "colab": {
          "base_uri": "https://localhost:8080/",
          "height": 187
        }
      },
      "cell_type": "code",
      "source": [
        "trainX[:10,:]"
      ],
      "execution_count": 42,
      "outputs": [
        {
          "output_type": "execute_result",
          "data": {
            "text/plain": [
              "array([[0.01544402],\n",
              "       [0.02702703],\n",
              "       [0.05405405],\n",
              "       [0.04826255],\n",
              "       [0.03281853],\n",
              "       [0.05984556],\n",
              "       [0.08494208],\n",
              "       [0.08494208],\n",
              "       [0.06177606],\n",
              "       [0.02895753]])"
            ]
          },
          "metadata": {
            "tags": []
          },
          "execution_count": 42
        }
      ]
    },
    {
      "metadata": {
        "id": "qijEFrVHjbsA",
        "colab_type": "text"
      },
      "cell_type": "markdown",
      "source": [
        "LSTM input layer has the expectations of 3D inputs.\n",
        "We can then use the reshape() function on the NumPy array to reshape \n",
        "this one-dimensional array into a three-dimensional array \n",
        "with first sample size, second time steps, and third feature at each time step."
      ]
    },
    {
      "metadata": {
        "id": "kNIRVR1SjbsB",
        "colab_type": "code",
        "colab": {}
      },
      "cell_type": "code",
      "source": [
        "trainX = trainX.reshape((trainX.shape[0], 1, trainX.shape[1]))\n",
        "testX = testX.reshape((testX.shape[0], 1, testX.shape[1])) "
      ],
      "execution_count": 0,
      "outputs": []
    },
    {
      "metadata": {
        "id": "V6pa4XeHjbsG",
        "colab_type": "code",
        "outputId": "409ed251-1d64-4822-bff7-e00d6db824ca",
        "colab": {
          "base_uri": "https://localhost:8080/",
          "height": 34
        }
      },
      "cell_type": "code",
      "source": [
        "np.shape(trainX)"
      ],
      "execution_count": 44,
      "outputs": [
        {
          "output_type": "execute_result",
          "data": {
            "text/plain": [
              "(97, 1, 1)"
            ]
          },
          "metadata": {
            "tags": []
          },
          "execution_count": 44
        }
      ]
    },
    {
      "metadata": {
        "id": "QHYPuxHnjbsQ",
        "colab_type": "text"
      },
      "cell_type": "markdown",
      "source": [
        "Data is now ready to be used as input (X) to the LSTM with an input_shape of (second, third)."
      ]
    },
    {
      "metadata": {
        "id": "WiWRvCe-jbsS",
        "colab_type": "code",
        "colab": {}
      },
      "cell_type": "code",
      "source": [
        "model = Sequential()\n",
        "\n",
        "model.add(LSTM(50, input_shape=(np.shape(trainX[1,:]))))\n",
        "#model.add(LSTM(50, input_shape=(np.shape(trainX[1,:])),return_sequences=True))\n",
        "#model.add(LSTM(100)),\n",
        "\n",
        "\n",
        "model.add(Dense(1))"
      ],
      "execution_count": 0,
      "outputs": []
    },
    {
      "metadata": {
        "id": "eOf_k--BjbsX",
        "colab_type": "code",
        "outputId": "7cc3f5e5-f754-4178-a24f-9be6afa5e7ea",
        "colab": {
          "base_uri": "https://localhost:8080/",
          "height": 204
        }
      },
      "cell_type": "code",
      "source": [
        "model.summary()"
      ],
      "execution_count": 46,
      "outputs": [
        {
          "output_type": "stream",
          "text": [
            "_________________________________________________________________\n",
            "Layer (type)                 Output Shape              Param #   \n",
            "=================================================================\n",
            "lstm_3 (LSTM)                (None, 50)                10400     \n",
            "_________________________________________________________________\n",
            "dense_2 (Dense)              (None, 1)                 51        \n",
            "=================================================================\n",
            "Total params: 10,451\n",
            "Trainable params: 10,451\n",
            "Non-trainable params: 0\n",
            "_________________________________________________________________\n"
          ],
          "name": "stdout"
        }
      ]
    },
    {
      "metadata": {
        "id": "5B_6WmhNjbsf",
        "colab_type": "code",
        "outputId": "6953eb60-59ee-4eef-db0d-ff145d9ff6e9",
        "colab": {
          "base_uri": "https://localhost:8080/",
          "height": 3434
        }
      },
      "cell_type": "code",
      "source": [
        "model.compile(loss='mean_squared_error', optimizer='adam')\n",
        "model.fit(trainX, trainY[:,0], epochs=100, batch_size=1, verbose=2)"
      ],
      "execution_count": 47,
      "outputs": [
        {
          "output_type": "stream",
          "text": [
            "Epoch 1/100\n",
            " - 1s - loss: 0.0286\n",
            "Epoch 2/100\n",
            " - 0s - loss: 0.0116\n",
            "Epoch 3/100\n",
            " - 0s - loss: 0.0095\n",
            "Epoch 4/100\n",
            " - 0s - loss: 0.0070\n",
            "Epoch 5/100\n",
            " - 0s - loss: 0.0052\n",
            "Epoch 6/100\n",
            " - 0s - loss: 0.0036\n",
            "Epoch 7/100\n",
            " - 0s - loss: 0.0028\n",
            "Epoch 8/100\n",
            " - 0s - loss: 0.0023\n",
            "Epoch 9/100\n",
            " - 0s - loss: 0.0021\n",
            "Epoch 10/100\n",
            " - 0s - loss: 0.0022\n",
            "Epoch 11/100\n",
            " - 0s - loss: 0.0021\n",
            "Epoch 12/100\n",
            " - 0s - loss: 0.0022\n",
            "Epoch 13/100\n",
            " - 0s - loss: 0.0021\n",
            "Epoch 14/100\n",
            " - 0s - loss: 0.0021\n",
            "Epoch 15/100\n",
            " - 0s - loss: 0.0021\n",
            "Epoch 16/100\n",
            " - 0s - loss: 0.0021\n",
            "Epoch 17/100\n",
            " - 0s - loss: 0.0022\n",
            "Epoch 18/100\n",
            " - 0s - loss: 0.0022\n",
            "Epoch 19/100\n",
            " - 0s - loss: 0.0020\n",
            "Epoch 20/100\n",
            " - 0s - loss: 0.0021\n",
            "Epoch 21/100\n",
            " - 0s - loss: 0.0021\n",
            "Epoch 22/100\n",
            " - 0s - loss: 0.0021\n",
            "Epoch 23/100\n",
            " - 0s - loss: 0.0021\n",
            "Epoch 24/100\n",
            " - 0s - loss: 0.0022\n",
            "Epoch 25/100\n",
            " - 0s - loss: 0.0021\n",
            "Epoch 26/100\n",
            " - 0s - loss: 0.0022\n",
            "Epoch 27/100\n",
            " - 0s - loss: 0.0021\n",
            "Epoch 28/100\n",
            " - 0s - loss: 0.0021\n",
            "Epoch 29/100\n",
            " - 0s - loss: 0.0022\n",
            "Epoch 30/100\n",
            " - 0s - loss: 0.0022\n",
            "Epoch 31/100\n",
            " - 0s - loss: 0.0020\n",
            "Epoch 32/100\n",
            " - 0s - loss: 0.0021\n",
            "Epoch 33/100\n",
            " - 0s - loss: 0.0020\n",
            "Epoch 34/100\n",
            " - 0s - loss: 0.0020\n",
            "Epoch 35/100\n",
            " - 0s - loss: 0.0021\n",
            "Epoch 36/100\n",
            " - 0s - loss: 0.0021\n",
            "Epoch 37/100\n",
            " - 0s - loss: 0.0021\n",
            "Epoch 38/100\n",
            " - 0s - loss: 0.0021\n",
            "Epoch 39/100\n",
            " - 0s - loss: 0.0021\n",
            "Epoch 40/100\n",
            " - 0s - loss: 0.0022\n",
            "Epoch 41/100\n",
            " - 0s - loss: 0.0022\n",
            "Epoch 42/100\n",
            " - 0s - loss: 0.0021\n",
            "Epoch 43/100\n",
            " - 0s - loss: 0.0021\n",
            "Epoch 44/100\n",
            " - 0s - loss: 0.0021\n",
            "Epoch 45/100\n",
            " - 0s - loss: 0.0020\n",
            "Epoch 46/100\n",
            " - 0s - loss: 0.0021\n",
            "Epoch 47/100\n",
            " - 0s - loss: 0.0021\n",
            "Epoch 48/100\n",
            " - 0s - loss: 0.0021\n",
            "Epoch 49/100\n",
            " - 0s - loss: 0.0021\n",
            "Epoch 50/100\n",
            " - 0s - loss: 0.0021\n",
            "Epoch 51/100\n",
            " - 0s - loss: 0.0020\n",
            "Epoch 52/100\n",
            " - 0s - loss: 0.0020\n",
            "Epoch 53/100\n",
            " - 0s - loss: 0.0021\n",
            "Epoch 54/100\n",
            " - 0s - loss: 0.0020\n",
            "Epoch 55/100\n",
            " - 0s - loss: 0.0020\n",
            "Epoch 56/100\n",
            " - 0s - loss: 0.0020\n",
            "Epoch 57/100\n",
            " - 0s - loss: 0.0021\n",
            "Epoch 58/100\n",
            " - 0s - loss: 0.0022\n",
            "Epoch 59/100\n",
            " - 0s - loss: 0.0022\n",
            "Epoch 60/100\n",
            " - 0s - loss: 0.0020\n",
            "Epoch 61/100\n",
            " - 0s - loss: 0.0021\n",
            "Epoch 62/100\n",
            " - 0s - loss: 0.0021\n",
            "Epoch 63/100\n",
            " - 0s - loss: 0.0022\n",
            "Epoch 64/100\n",
            " - 0s - loss: 0.0021\n",
            "Epoch 65/100\n",
            " - 0s - loss: 0.0020\n",
            "Epoch 66/100\n",
            " - 0s - loss: 0.0020\n",
            "Epoch 67/100\n",
            " - 0s - loss: 0.0020\n",
            "Epoch 68/100\n",
            " - 0s - loss: 0.0021\n",
            "Epoch 69/100\n",
            " - 0s - loss: 0.0020\n",
            "Epoch 70/100\n",
            " - 0s - loss: 0.0022\n",
            "Epoch 71/100\n",
            " - 0s - loss: 0.0021\n",
            "Epoch 72/100\n",
            " - 0s - loss: 0.0020\n",
            "Epoch 73/100\n",
            " - 0s - loss: 0.0020\n",
            "Epoch 74/100\n",
            " - 0s - loss: 0.0022\n",
            "Epoch 75/100\n",
            " - 0s - loss: 0.0020\n",
            "Epoch 76/100\n",
            " - 0s - loss: 0.0020\n",
            "Epoch 77/100\n",
            " - 0s - loss: 0.0022\n",
            "Epoch 78/100\n",
            " - 0s - loss: 0.0020\n",
            "Epoch 79/100\n",
            " - 0s - loss: 0.0021\n",
            "Epoch 80/100\n",
            " - 0s - loss: 0.0021\n",
            "Epoch 81/100\n",
            " - 0s - loss: 0.0020\n",
            "Epoch 82/100\n",
            " - 0s - loss: 0.0022\n",
            "Epoch 83/100\n",
            " - 0s - loss: 0.0022\n",
            "Epoch 84/100\n",
            " - 0s - loss: 0.0020\n",
            "Epoch 85/100\n",
            " - 0s - loss: 0.0021\n",
            "Epoch 86/100\n",
            " - 0s - loss: 0.0020\n",
            "Epoch 87/100\n",
            " - 0s - loss: 0.0020\n",
            "Epoch 88/100\n",
            " - 0s - loss: 0.0021\n",
            "Epoch 89/100\n",
            " - 0s - loss: 0.0021\n",
            "Epoch 90/100\n",
            " - 0s - loss: 0.0021\n",
            "Epoch 91/100\n",
            " - 0s - loss: 0.0020\n",
            "Epoch 92/100\n",
            " - 0s - loss: 0.0021\n",
            "Epoch 93/100\n",
            " - 0s - loss: 0.0021\n",
            "Epoch 94/100\n",
            " - 0s - loss: 0.0021\n",
            "Epoch 95/100\n",
            " - 0s - loss: 0.0023\n",
            "Epoch 96/100\n",
            " - 0s - loss: 0.0021\n",
            "Epoch 97/100\n",
            " - 0s - loss: 0.0021\n",
            "Epoch 98/100\n",
            " - 0s - loss: 0.0019\n",
            "Epoch 99/100\n",
            " - 0s - loss: 0.0023\n",
            "Epoch 100/100\n",
            " - 0s - loss: 0.0021\n"
          ],
          "name": "stdout"
        },
        {
          "output_type": "execute_result",
          "data": {
            "text/plain": [
              "<keras.callbacks.History at 0x7f8511a9f630>"
            ]
          },
          "metadata": {
            "tags": []
          },
          "execution_count": 47
        }
      ]
    },
    {
      "metadata": {
        "id": "Sb-VeH0Ijbsm",
        "colab_type": "code",
        "colab": {}
      },
      "cell_type": "code",
      "source": [
        "# make predictions\n",
        "trainPredict = model.predict(trainX)\n",
        "testPredict = model.predict(testX)"
      ],
      "execution_count": 0,
      "outputs": []
    },
    {
      "metadata": {
        "id": "_UQU5qWnjbsu",
        "colab_type": "code",
        "outputId": "808ad67f-5fab-4407-e754-d0f00e77dfb2",
        "colab": {
          "base_uri": "https://localhost:8080/",
          "height": 68
        }
      },
      "cell_type": "code",
      "source": [
        "trainPredict[:10,0]"
      ],
      "execution_count": 49,
      "outputs": [
        {
          "output_type": "execute_result",
          "data": {
            "text/plain": [
              "array([0.04373969, 0.05496535, 0.08117564, 0.07555734, 0.06057993,\n",
              "       0.08679482, 0.11115335, 0.11115335, 0.08866806, 0.05683675],\n",
              "      dtype=float32)"
            ]
          },
          "metadata": {
            "tags": []
          },
          "execution_count": 49
        }
      ]
    },
    {
      "metadata": {
        "id": "xSoPawwbjbsy",
        "colab_type": "code",
        "outputId": "60a21338-94b4-46bd-ab5a-43262dc743ae",
        "colab": {
          "base_uri": "https://localhost:8080/",
          "height": 187
        }
      },
      "cell_type": "code",
      "source": [
        "trainX[:10,0]"
      ],
      "execution_count": 50,
      "outputs": [
        {
          "output_type": "execute_result",
          "data": {
            "text/plain": [
              "array([[0.01544402],\n",
              "       [0.02702703],\n",
              "       [0.05405405],\n",
              "       [0.04826255],\n",
              "       [0.03281853],\n",
              "       [0.05984556],\n",
              "       [0.08494208],\n",
              "       [0.08494208],\n",
              "       [0.06177606],\n",
              "       [0.02895753]])"
            ]
          },
          "metadata": {
            "tags": []
          },
          "execution_count": 50
        }
      ]
    },
    {
      "metadata": {
        "id": "i54HfDA_jbs1",
        "colab_type": "code",
        "colab": {}
      },
      "cell_type": "code",
      "source": [
        "# invert predictions\n",
        "trainPredict = scaler.inverse_transform(trainPredict)\n",
        "trainY = scaler.inverse_transform(trainY)\n",
        "testPredict = scaler.inverse_transform(testPredict)\n",
        "testY = scaler.inverse_transform(testY)"
      ],
      "execution_count": 0,
      "outputs": []
    },
    {
      "metadata": {
        "id": "tXVUV-egjbs5",
        "colab_type": "code",
        "outputId": "1bd8cfbb-51c0-4df3-afbf-4dda590439f4",
        "colab": {
          "base_uri": "https://localhost:8080/",
          "height": 34
        }
      },
      "cell_type": "code",
      "source": [
        "np.shape(trainPredict)"
      ],
      "execution_count": 52,
      "outputs": [
        {
          "output_type": "execute_result",
          "data": {
            "text/plain": [
              "(97, 1)"
            ]
          },
          "metadata": {
            "tags": []
          },
          "execution_count": 52
        }
      ]
    },
    {
      "metadata": {
        "id": "MidAgKmyjbs8",
        "colab_type": "code",
        "outputId": "dc0bb926-ebc6-4fe0-a91f-61c49320e6e7",
        "colab": {
          "base_uri": "https://localhost:8080/",
          "height": 51
        }
      },
      "cell_type": "code",
      "source": [
        "trainPredict[:10,0]"
      ],
      "execution_count": 53,
      "outputs": [
        {
          "output_type": "execute_result",
          "data": {
            "text/plain": [
              "array([126.65716, 132.47205, 146.04898, 143.1387 , 135.3804 , 148.95972,\n",
              "       161.57744, 161.57744, 149.93007, 133.44144], dtype=float32)"
            ]
          },
          "metadata": {
            "tags": []
          },
          "execution_count": 53
        }
      ]
    },
    {
      "metadata": {
        "id": "ABU1qh-yjbtA",
        "colab_type": "code",
        "outputId": "246cff61-82da-4e47-a7cf-67782026f57d",
        "colab": {
          "base_uri": "https://localhost:8080/",
          "height": 34
        }
      },
      "cell_type": "code",
      "source": [
        "np.shape(trainY)"
      ],
      "execution_count": 54,
      "outputs": [
        {
          "output_type": "execute_result",
          "data": {
            "text/plain": [
              "(97, 1)"
            ]
          },
          "metadata": {
            "tags": []
          },
          "execution_count": 54
        }
      ]
    },
    {
      "metadata": {
        "id": "E8p2Hbm-jbtD",
        "colab_type": "code",
        "outputId": "680280f2-ef13-4959-8166-e0a36cc63406",
        "colab": {
          "base_uri": "https://localhost:8080/",
          "height": 51
        }
      },
      "cell_type": "code",
      "source": [
        "# calculate root mean squared error\n",
        "trainScore = math.sqrt(mean_squared_error(trainY[:,0], trainPredict[:,0]))\n",
        "print('Train Score: %.2f RMSE' % (trainScore))\n",
        "testScore = math.sqrt(mean_squared_error(testY[:,0], testPredict[:,0]))\n",
        "print('Test Score: %.2f RMSE' % (testScore))"
      ],
      "execution_count": 55,
      "outputs": [
        {
          "output_type": "stream",
          "text": [
            "Train Score: 24.68 RMSE\n",
            "Test Score: 46.88 RMSE\n"
          ],
          "name": "stdout"
        }
      ]
    },
    {
      "metadata": {
        "id": "4OAVFWZyjbtH",
        "colab_type": "code",
        "outputId": "f4fbb03b-4c5a-47d6-d619-2ff73a35c4dd",
        "colab": {
          "base_uri": "https://localhost:8080/",
          "height": 34
        }
      },
      "cell_type": "code",
      "source": [
        "np.shape(dataset)"
      ],
      "execution_count": 56,
      "outputs": [
        {
          "output_type": "execute_result",
          "data": {
            "text/plain": [
              "(141, 1)"
            ]
          },
          "metadata": {
            "tags": []
          },
          "execution_count": 56
        }
      ]
    },
    {
      "metadata": {
        "id": "bPH-JXoSjbtN",
        "colab_type": "code",
        "outputId": "89e56414-55e4-40da-d807-71674af963ba",
        "colab": {
          "base_uri": "https://localhost:8080/",
          "height": 34
        }
      },
      "cell_type": "code",
      "source": [
        "np.shape(testPredict)"
      ],
      "execution_count": 57,
      "outputs": [
        {
          "output_type": "execute_result",
          "data": {
            "text/plain": [
              "(42, 1)"
            ]
          },
          "metadata": {
            "tags": []
          },
          "execution_count": 57
        }
      ]
    },
    {
      "metadata": {
        "id": "HnDySm_pjbtR",
        "colab_type": "code",
        "outputId": "bd0bb2d4-adab-453d-b41d-ceb5e129d55a",
        "colab": {
          "base_uri": "https://localhost:8080/",
          "height": 34
        }
      },
      "cell_type": "code",
      "source": [
        "np.shape(trainPredict)"
      ],
      "execution_count": 58,
      "outputs": [
        {
          "output_type": "execute_result",
          "data": {
            "text/plain": [
              "(97, 1)"
            ]
          },
          "metadata": {
            "tags": []
          },
          "execution_count": 58
        }
      ]
    },
    {
      "metadata": {
        "id": "dH5SZD38jbtU",
        "colab_type": "code",
        "outputId": "d3ea8bab-9411-4a5c-ce5c-ab4d20a3385d",
        "colab": {
          "base_uri": "https://localhost:8080/",
          "height": 34
        }
      },
      "cell_type": "code",
      "source": [
        "len(dataset)-(len(trainPredict)+(1*2))"
      ],
      "execution_count": 59,
      "outputs": [
        {
          "output_type": "execute_result",
          "data": {
            "text/plain": [
              "42"
            ]
          },
          "metadata": {
            "tags": []
          },
          "execution_count": 59
        }
      ]
    },
    {
      "metadata": {
        "id": "fSpDm5nhjbtY",
        "colab_type": "code",
        "outputId": "e73932fa-12f4-46c4-efb6-a4907fcbb8db",
        "colab": {
          "base_uri": "https://localhost:8080/",
          "height": 347
        }
      },
      "cell_type": "code",
      "source": [
        "# shift test predictions for plotting\n",
        "trainPredictPlot = np.empty_like(dataset)\n",
        "trainPredictPlot[:, :] = np.nan\n",
        "trainPredictPlot[1:len(trainPredict)+1, :] = trainPredict\n",
        "\n",
        "testPredictPlot = np.empty_like(dataset)\n",
        "testPredictPlot[:, :] = np.nan\n",
        "testPredictPlot[len(trainPredict)+(1*2):len(dataset), :] = testPredict\n",
        "#plot baseline and predictions\n",
        "plt.plot(scaler.inverse_transform(dataset))\n",
        "plt.plot(trainPredictPlot)\n",
        "plt.plot(testPredictPlot)\n",
        "plt.show()"
      ],
      "execution_count": 60,
      "outputs": [
        {
          "output_type": "display_data",
          "data": {
            "image/png": "[encoded data removed]",
            "text/plain": [
              "<Figure size 576x396 with 1 Axes>"
            ]
          },
          "metadata": {
            "tags": []
          }
        }
      ]
    },
    {
      "metadata": {
        "id": "0MdUbt1ujbts",
        "colab_type": "code",
        "colab": {}
      },
      "cell_type": "code",
      "source": [
        ""
      ],
      "execution_count": 0,
      "outputs": []
    }
  ]
}