{
  "nbformat": 4,
  "nbformat_minor": 0,
  "metadata": {
    "colab": {
      "name": "FLOPS.ipynb",
      "version": "0.3.2",
      "provenance": [],
      "collapsed_sections": []
    },
    "kernelspec": {
      "name": "python3",
      "display_name": "Python 3"
    }
  },
  "cells": [
    {
      "metadata": {
        "id": "Exi72we_tooR",
        "colab_type": "code",
        "outputId": "f928619a-4f4c-4a03-939c-c257a20294e3",
        "colab": {
          "base_uri": "https://localhost:8080/",
          "height": 34
        }
      },
      "cell_type": "code",
      "source": [
        "input_shape = (3 ,300 ,300) # Format:(channels, rows,cols)\n",
        "conv_filter = (64 ,3 ,3 ,3)  # Format: (num_filters, channels, rows, cols)\n",
        "stride = 1\n",
        "padding = 1\n",
        "activation = 'relu'\n",
        "\n",
        "if conv_filter[1] == 0:\n",
        "    n = conv_filter[2] * conv_filter[3] # vector_length\n",
        "else:\n",
        "    n = conv_filter[1] * conv_filter[2] * conv_filter[3]  # vector_length\n",
        "\n",
        "flops_per_instance = n + ( n -1)    # general defination for number of flops (n: multiplications and n-1: additions)\n",
        "\n",
        "num_instances_per_filter = (( input_shape[1] - conv_filter[2] + 2 * padding) / stride) + 1  # for rows\n",
        "num_instances_per_filter *= ((input_shape[1] - conv_filter[2] + 2 * padding) / stride) + 1  # multiplying with cols\n",
        "\n",
        "flops_per_filter = num_instances_per_filter * flops_per_instance\n",
        "total_flops_per_layer = flops_per_filter * conv_filter[0]  # multiply with number of filters\n",
        "\n",
        "if activation == 'relu':\n",
        "    # Here one can add number of flops required\n",
        "    # Relu takes 1 comparison and 1 multiplication\n",
        "    # Assuming for Relu: number of flops equal to length of input vector\n",
        "    total_flops_per_layer += conv_filter[0] * input_shape[1] * input_shape[2]\n",
        "\n",
        "\n",
        "if total_flops_per_layer / 1e9 > 1:   # for Giga Flops\n",
        "    print(total_flops_per_layer/ 1e9 ,'{}'.format('GFlops'))\n",
        "else:\n",
        "    print(total_flops_per_layer / 1e6 ,'{}'.format('MFlops'))"
      ],
      "execution_count": 0,
      "outputs": [
        {
          "output_type": "stream",
          "text": [
            "311.04 MFlops\n"
          ],
          "name": "stdout"
        }
      ]
    }
  ]
}